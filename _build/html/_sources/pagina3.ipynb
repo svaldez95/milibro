{
 "cells": [
  {
   "cell_type": "markdown",
   "id": "f503a3e5",
   "metadata": {},
   "source": [
    "# Cómo decorar el salón: los 5 mejores trucos e ideas para dar con la clave y aprovechar bien los metros de tu piso\n",
    "\n",
    "Aún es el centro de la casa, y el lugar más visible; el espacio de reunión familiar, de descanso, de comunicación. Descubre las mejores soluciones prácticas para decorar el salón y así ganar luz, \n",
    "amplitud y comodidad a partir de una decoración perfecta.\n",
    "\n",
    "![](unsplash_7ad47d17_1280x794.jpg)\n",
    "\n",
    "## De comodidad y estética\n",
    "\n",
    "En sillones y sofás, un respaldo bajo, aunque sea más estético, será menos cómodo para estar sentado. En cuanto a la dureza es parecido.\n",
    "Para sentarse son recomendables los más rígidos de espuma o muelles embolsados, mientras que para tumbarse los mullidos de plumas son una solución ideal.\n",
    "\n",
    "![Los cojines son el mejor aliado de las paredes blancas.](https://www.arquitecturaydiseno.es/medio/2020/05/13/salon-cojines-contraste_437e10d7_800x1067.jpg)\n",
    "Dan calidad a la decoración y calidez al espacio. Los rojizos caldearán el ambiente, pero si los utilizamos reversibles podremos cambiar de “temperatura” solo girándolos.\n",
    "\n",
    "## Benéfico sol\n",
    "\n",
    "Las ventanas son la entrada natural de luz, que al ser tamizada además de iluminar decora. Las cortinas traslúcidas, junto a telas tupidas, permiten jugar con luces y sombras y conseguir efectos increíbles.\n",
    "## Separar agrandando\n",
    "\n",
    "Si necesitamos dividir el espacio, utilizar un módulo de almacenaje de media altura como elemento separador es la opción que te permitirá ganar espacio,\n",
    "al dotar de funcionalidad a la divisoria, a la vez que genera la permeablidad suficiente para dar continuidad.\n",
    "\n",
    "![Centro de sala.](https://www.arquitecturaydiseno.es/medio/2020/05/12/salon-chimenea_aa1b9a72_1280x1939.jpg)\n",
    "se dispone de chimenea, esta debe ser el centro de la sala. Sin embargo, dotarla de protagonismo no implica situar enfrente todo el mobiliario sino tomar la chimenea como punto de referencia \n",
    "a partir del cual articular el resto de elementos en forma de arco, círculo o de rectángulo.\n",
    "\n",
    "## Colores sanos\n",
    "\n",
    "Las pinturas pueden ser una fuente de emisiones de sustancias nocivas para la salud que podemos evitar fácilmente.\n",
    "Las formulaciones más saludables que pueden encontrarse en el mercado son las pinturas de arcillas basesilicato.\n",
    "\n",
    "## Dos ambientes\n",
    "Si el comedor está integrado junto al salón es recomendable, en caso de existir un gradiente de iluminación natural, \n",
    "situar en la zona de penumbra el sofá y el área de descanso o de audiovisuales.\n",
    "\n",
    "![Dos ambientes.](https://www.arquitecturaydiseno.es/medio/2020/05/13/salon-cocina-plantas_4262e892_1280x720.jpg)\n",
    "Dar un toque de vida a la decoración con plantas, además de belleza natural, añade frescor al ambiente, y si las seleccionas con atención lograrás depurar el aire interior.\n",
    "\n",
    "[Página de inicio](index.md)\n",
    "\n",
    " [Baño moderno 2022](pagina2.md) \n",
    "\n",
    "[Cómo decorar el salón](pagina3.md)"
   ]
  }
 ],
 "metadata": {
  "jupytext": {
   "cell_metadata_filter": "-all",
   "formats": "md:myst",
   "text_representation": {
    "extension": ".md",
    "format_name": "myst",
    "format_version": 0.13,
    "jupytext_version": "1.11.5"
   }
  },
  "kernelspec": {
   "display_name": "Python 3",
   "language": "python",
   "name": "python3"
  },
  "language_info": {
   "codemirror_mode": {
    "name": "ipython",
    "version": 3
   },
   "file_extension": ".py",
   "mimetype": "text/x-python",
   "name": "python",
   "nbconvert_exporter": "python",
   "pygments_lexer": "ipython3",
   "version": "3.10.2"
  },
  "source_map": [
   14
  ]
 },
 "nbformat": 4,
 "nbformat_minor": 5
}